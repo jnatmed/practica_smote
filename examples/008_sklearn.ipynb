{
 "cells": [
  {
   "cell_type": "markdown",
   "metadata": {},
   "source": [
    "# Integration with sklearn pipelines\n",
    "\n",
    "In this notebook, provide some illustration for integration with sklearn pipelines."
   ]
  },
  {
   "cell_type": "code",
   "execution_count": 46,
   "metadata": {
    "scrolled": true
   },
   "outputs": [],
   "source": [
    "import keras\n",
    "import imblearn\n",
    "\n",
    "import numpy as np\n",
    "import pandas as pd \n",
    "\n",
    "\n",
    "import smote_variants as sv\n",
    "import imblearn.datasets as imb_datasets\n",
    "\n",
    "from sklearn.model_selection import train_test_split, GridSearchCV\n",
    "from sklearn.pipeline import Pipeline\n",
    "from sklearn.preprocessing import StandardScaler\n",
    "from sklearn.neighbors import KNeighborsClassifier\n",
    "\n",
    "random_seed= 3"
   ]
  },
  {
   "cell_type": "markdown",
   "metadata": {},
   "source": [
    "## Preparing the data"
   ]
  },
  {
   "cell_type": "code",
   "execution_count": 47,
   "metadata": {},
   "outputs": [],
   "source": [
    "np.random.seed(random_seed)"
   ]
  },
  {
   "cell_type": "code",
   "execution_count": 48,
   "metadata": {},
   "outputs": [],
   "source": [
    "# libras= imb_datasets.fetch_datasets()['libras_move']\n",
    "# X, y= libras['data'], libras['target']\n",
    "df = pd.read_csv('credit_dataset.csv')"
   ]
  },
  {
   "cell_type": "code",
   "execution_count": 49,
   "metadata": {},
   "outputs": [],
   "source": [
    "df['GENDER'] = [0 if x == 'M' else 1 for x in df['GENDER']]\n",
    "df['CAR'] = [1 if x == 'Y' else 0 for x in df['CAR']]\n",
    "df['REALITY'] = [1 if x == 'Y' else 0 for x in df['REALITY']]\n",
    "dummy_income_type = pd.get_dummies(df['INCOME_TYPE'], prefix='INC_TYPE', drop_first=True)\n",
    "dummy_edu_type = pd.get_dummies(df['EDUCATION_TYPE'], prefix='EDU_TYPE', drop_first=True)\n",
    "dummy_family_type = pd.get_dummies(df['FAMILY_TYPE'], prefix='FAM_TYPE', drop_first=True)\n",
    "dummy_house_type = pd.get_dummies(df['HOUSE_TYPE'], prefix='HOUSE_TYPE', drop_first=True)\n",
    "to_drop = ['Unnamed: 0', 'ID', 'FLAG_MOBIL', 'INCOME_TYPE',\n",
    "           'EDUCATION_TYPE', 'FAMILY_TYPE', 'HOUSE_TYPE']\n",
    "df.drop(to_drop, axis=1, inplace=True)\n",
    "\n",
    "# Fusionar en un solo Dataframe\n",
    "merged = pd.concat([df, dummy_income_type, dummy_edu_type, dummy_family_type, dummy_house_type], axis=1)\n",
    "from sklearn.preprocessing import MinMaxScaler\n",
    "\n",
    "# Escalar solo columnas que tengan valores mayores que 1\n",
    "to_scale = [col for col in df.columns if df[col].max() > 1]\n",
    "mms = MinMaxScaler()\n",
    "scaled = mms.fit_transform(merged[to_scale])\n",
    "scaled = pd.DataFrame(scaled, columns=to_scale)\n",
    "\n",
    "# Reemplazar las columnas originales con escalas\n",
    "for col in scaled:\n",
    "    merged[col] = scaled[col]\n",
    "    \n",
    "merged.head()\n",
    "data = merged"
   ]
  },
  {
   "cell_type": "code",
   "execution_count": 50,
   "metadata": {},
   "outputs": [],
   "source": [
    "X, y = data.drop(['TARGET'], axis=1), data['TARGET']"
   ]
  },
  {
   "cell_type": "code",
   "execution_count": 51,
   "metadata": {},
   "outputs": [],
   "source": [
    "X_train, X_test, y_train, y_test= train_test_split(X, y, test_size= 0.25)"
   ]
  },
  {
   "cell_type": "markdown",
   "metadata": {},
   "source": [
    "## Fitting a pipeline"
   ]
  },
  {
   "cell_type": "code",
   "execution_count": 52,
   "metadata": {},
   "outputs": [],
   "source": [
    "oversampler= sv.MulticlassOversampling(sv.distance_SMOTE())\n",
    "classifier= KNeighborsClassifier(n_neighbors= 5)"
   ]
  },
  {
   "cell_type": "code",
   "execution_count": 53,
   "metadata": {},
   "outputs": [],
   "source": [
    "model= Pipeline([\n",
    "                ('scale', StandardScaler()),\n",
    "                ('clf', sv.OversamplingClassifier(oversampler, classifier))\n",
    "            ])"
   ]
  },
  {
   "cell_type": "code",
   "execution_count": 54,
   "metadata": {},
   "outputs": [
    {
     "name": "stderr",
     "output_type": "stream",
     "text": [
      "2022-03-27 22:47:19,897:INFO:MulticlassOversampling: Running multiclass oversampling with strategy eq_1_vs_many_successive\n",
      "2022-03-27 22:47:19,907:INFO:MulticlassOversampling: Sampling minority class with label: 1\n",
      "2022-03-27 22:47:19,911:INFO:distance_SMOTE: Running sampling via ('distance_SMOTE', \"{'proportion': 1.0, 'n_neighbors': 5, 'n_jobs': 1, 'random_state': None}\")\n"
     ]
    },
    {
     "data": {
      "text/plain": [
       "Pipeline(steps=[('scale', StandardScaler()),\n",
       "                ('clf',\n",
       "                 OversamplingClassifier(classifier=KNeighborsClassifier(),\n",
       "                                        oversampler=<smote_variants._smote_variants.MulticlassOversampling object at 0x000001D39EF2EDA0>))])"
      ]
     },
     "execution_count": 54,
     "metadata": {},
     "output_type": "execute_result"
    }
   ],
   "source": [
    "model.fit(X_train, y_train)"
   ]
  },
  {
   "cell_type": "markdown",
   "metadata": {},
   "source": [
    "## Grid search"
   ]
  },
  {
   "cell_type": "code",
   "execution_count": 55,
   "metadata": {},
   "outputs": [],
   "source": [
    "param_grid= {'clf__oversampler':[sv.distance_SMOTE(proportion=0.5),\n",
    "                                 sv.distance_SMOTE(proportion=1.0),\n",
    "                                 sv.distance_SMOTE(proportion=1.5)]}"
   ]
  },
  {
   "cell_type": "code",
   "execution_count": 56,
   "metadata": {},
   "outputs": [],
   "source": [
    "grid= GridSearchCV(model, param_grid= param_grid, cv= 3, n_jobs= 1, verbose= 2, scoring= 'accuracy')"
   ]
  },
  {
   "cell_type": "code",
   "execution_count": 57,
   "metadata": {},
   "outputs": [
    {
     "name": "stderr",
     "output_type": "stream",
     "text": [
      "2022-03-27 22:47:29,177:INFO:distance_SMOTE: Running sampling via ('distance_SMOTE', \"{'proportion': 0.5, 'n_neighbors': 5, 'n_jobs': 1, 'random_state': None}\")\n"
     ]
    },
    {
     "name": "stdout",
     "output_type": "stream",
     "text": [
      "Fitting 3 folds for each of 3 candidates, totalling 9 fits\n"
     ]
    },
    {
     "name": "stderr",
     "output_type": "stream",
     "text": [
      "2022-03-27 22:47:32,025:INFO:distance_SMOTE: Running sampling via ('distance_SMOTE', \"{'proportion': 0.5, 'n_neighbors': 5, 'n_jobs': 1, 'random_state': None}\")\n"
     ]
    },
    {
     "name": "stdout",
     "output_type": "stream",
     "text": [
      "[CV] END clf__oversampler=('distance_SMOTE', \"{'proportion': 0.5, 'n_neighbors': 5, 'n_jobs': 1, 'random_state': None}\"); total time=   2.8s\n"
     ]
    },
    {
     "name": "stderr",
     "output_type": "stream",
     "text": [
      "2022-03-27 22:47:35,011:INFO:distance_SMOTE: Running sampling via ('distance_SMOTE', \"{'proportion': 0.5, 'n_neighbors': 5, 'n_jobs': 1, 'random_state': None}\")\n"
     ]
    },
    {
     "name": "stdout",
     "output_type": "stream",
     "text": [
      "[CV] END clf__oversampler=('distance_SMOTE', \"{'proportion': 0.5, 'n_neighbors': 5, 'n_jobs': 1, 'random_state': None}\"); total time=   2.9s\n"
     ]
    },
    {
     "name": "stderr",
     "output_type": "stream",
     "text": [
      "2022-03-27 22:47:37,884:INFO:distance_SMOTE: Running sampling via ('distance_SMOTE', \"{'proportion': 1.0, 'n_neighbors': 5, 'n_jobs': 1, 'random_state': None}\")\n"
     ]
    },
    {
     "name": "stdout",
     "output_type": "stream",
     "text": [
      "[CV] END clf__oversampler=('distance_SMOTE', \"{'proportion': 0.5, 'n_neighbors': 5, 'n_jobs': 1, 'random_state': None}\"); total time=   2.8s\n"
     ]
    },
    {
     "name": "stderr",
     "output_type": "stream",
     "text": [
      "2022-03-27 22:47:41,510:INFO:distance_SMOTE: Running sampling via ('distance_SMOTE', \"{'proportion': 1.0, 'n_neighbors': 5, 'n_jobs': 1, 'random_state': None}\")\n"
     ]
    },
    {
     "name": "stdout",
     "output_type": "stream",
     "text": [
      "[CV] END clf__oversampler=('distance_SMOTE', \"{'proportion': 1.0, 'n_neighbors': 5, 'n_jobs': 1, 'random_state': None}\"); total time=   3.5s\n"
     ]
    },
    {
     "name": "stderr",
     "output_type": "stream",
     "text": [
      "2022-03-27 22:47:45,526:INFO:distance_SMOTE: Running sampling via ('distance_SMOTE', \"{'proportion': 1.0, 'n_neighbors': 5, 'n_jobs': 1, 'random_state': None}\")\n"
     ]
    },
    {
     "name": "stdout",
     "output_type": "stream",
     "text": [
      "[CV] END clf__oversampler=('distance_SMOTE', \"{'proportion': 1.0, 'n_neighbors': 5, 'n_jobs': 1, 'random_state': None}\"); total time=   3.9s\n"
     ]
    },
    {
     "name": "stderr",
     "output_type": "stream",
     "text": [
      "2022-03-27 22:47:49,567:INFO:distance_SMOTE: Running sampling via ('distance_SMOTE', \"{'proportion': 1.5, 'n_neighbors': 5, 'n_jobs': 1, 'random_state': None}\")\n"
     ]
    },
    {
     "name": "stdout",
     "output_type": "stream",
     "text": [
      "[CV] END clf__oversampler=('distance_SMOTE', \"{'proportion': 1.0, 'n_neighbors': 5, 'n_jobs': 1, 'random_state': None}\"); total time=   3.9s\n"
     ]
    },
    {
     "name": "stderr",
     "output_type": "stream",
     "text": [
      "2022-03-27 22:47:54,456:INFO:distance_SMOTE: Running sampling via ('distance_SMOTE', \"{'proportion': 1.5, 'n_neighbors': 5, 'n_jobs': 1, 'random_state': None}\")\n"
     ]
    },
    {
     "name": "stdout",
     "output_type": "stream",
     "text": [
      "[CV] END clf__oversampler=('distance_SMOTE', \"{'proportion': 1.5, 'n_neighbors': 5, 'n_jobs': 1, 'random_state': None}\"); total time=   4.8s\n"
     ]
    },
    {
     "name": "stderr",
     "output_type": "stream",
     "text": [
      "2022-03-27 22:47:58,997:INFO:distance_SMOTE: Running sampling via ('distance_SMOTE', \"{'proportion': 1.5, 'n_neighbors': 5, 'n_jobs': 1, 'random_state': None}\")\n"
     ]
    },
    {
     "name": "stdout",
     "output_type": "stream",
     "text": [
      "[CV] END clf__oversampler=('distance_SMOTE', \"{'proportion': 1.5, 'n_neighbors': 5, 'n_jobs': 1, 'random_state': None}\"); total time=   4.4s\n"
     ]
    },
    {
     "name": "stderr",
     "output_type": "stream",
     "text": [
      "2022-03-27 22:48:03,825:INFO:distance_SMOTE: Running sampling via ('distance_SMOTE', \"{'proportion': 0.5, 'n_neighbors': 5, 'n_jobs': 1, 'random_state': None}\")\n"
     ]
    },
    {
     "name": "stdout",
     "output_type": "stream",
     "text": [
      "[CV] END clf__oversampler=('distance_SMOTE', \"{'proportion': 1.5, 'n_neighbors': 5, 'n_jobs': 1, 'random_state': None}\"); total time=   4.7s\n"
     ]
    },
    {
     "data": {
      "text/plain": [
       "GridSearchCV(cv=3,\n",
       "             estimator=Pipeline(steps=[('scale', StandardScaler()),\n",
       "                                       ('clf',\n",
       "                                        OversamplingClassifier(classifier=KNeighborsClassifier(),\n",
       "                                                               oversampler=<smote_variants._smote_variants.MulticlassOversampling object at 0x000001D39EF2EDA0>))]),\n",
       "             n_jobs=1,\n",
       "             param_grid={'clf__oversampler': [<smote_variants._smote_variants.distance_SMOTE object at 0x000001D39EF2F490>,\n",
       "                                              <smote_variants._smote_variants.distance_SMOTE object at 0x000001D39EF2F070>,\n",
       "                                              <smote_variants._smote_variants.distance_SMOTE object at 0x000001D39EF2FAC0>]},\n",
       "             scoring='accuracy', verbose=2)"
      ]
     },
     "execution_count": 57,
     "metadata": {},
     "output_type": "execute_result"
    }
   ],
   "source": [
    "grid.fit(X_train, y_train)"
   ]
  },
  {
   "cell_type": "code",
   "execution_count": 62,
   "metadata": {},
   "outputs": [
    {
     "name": "stdout",
     "output_type": "stream",
     "text": [
      "{'clf__oversampler': <smote_variants._smote_variants.distance_SMOTE object at 0x000001D39EF2F490>}\n",
      "Accuracy: 94.37%\n"
     ]
    }
   ],
   "source": [
    "# print(grid.best_score_)\n",
    "print(grid.best_params_)\n",
    "print(f'Accuracy: {grid.best_score_ * 100:.2f}%')\n",
    "# print(grid.cv_results_)"
   ]
  },
  {
   "cell_type": "code",
   "execution_count": 43,
   "metadata": {},
   "outputs": [
    {
     "data": {
      "text/plain": [
       "{'mean_fit_time': array([0.33528932, 0.63448   , 0.94450045]),\n",
       " 'std_fit_time': array([0.02122631, 0.01944285, 0.03745864]),\n",
       " 'mean_score_time': array([4.21421782, 5.53561544, 6.57661366]),\n",
       " 'std_score_time': array([0.10633069, 0.19713152, 0.06728457]),\n",
       " 'param_clf__oversampler': masked_array(data=[<smote_variants._smote_variants.distance_SMOTE object at 0x000001D39CE0E9B0>,\n",
       "                    <smote_variants._smote_variants.distance_SMOTE object at 0x000001D39CE0F400>,\n",
       "                    <smote_variants._smote_variants.distance_SMOTE object at 0x000001D39CE0CDF0>],\n",
       "              mask=[False, False, False],\n",
       "        fill_value='?',\n",
       "             dtype=object),\n",
       " 'params': [{'clf__oversampler': <smote_variants._smote_variants.distance_SMOTE at 0x1d39ce0e9b0>},\n",
       "  {'clf__oversampler': <smote_variants._smote_variants.distance_SMOTE at 0x1d39ce0f400>},\n",
       "  {'clf__oversampler': <smote_variants._smote_variants.distance_SMOTE at 0x1d39ce0cdf0>}],\n",
       " 'split0_test_score': array([0.90212461, 0.89949869, 0.89925997]),\n",
       " 'split1_test_score': array([0.9048699 , 0.90355693, 0.90224397]),\n",
       " 'split2_test_score': array([0.89544044, 0.89412748, 0.89353068]),\n",
       " 'mean_test_score': array([0.90081165, 0.89906103, 0.89834487]),\n",
       " 'std_test_score': array([0.00395993, 0.00386198, 0.00361556]),\n",
       " 'rank_test_score': array([1, 2, 3])}"
      ]
     },
     "execution_count": 43,
     "metadata": {},
     "output_type": "execute_result"
    }
   ],
   "source": [
    "\n",
    "grid.cv_results_"
   ]
  },
  {
   "cell_type": "code",
   "execution_count": null,
   "metadata": {},
   "outputs": [],
   "source": []
  }
 ],
 "metadata": {
  "kernelspec": {
   "display_name": "Python 3",
   "language": "python",
   "name": "python3"
  },
  "language_info": {
   "codemirror_mode": {
    "name": "ipython",
    "version": 3
   },
   "file_extension": ".py",
   "mimetype": "text/x-python",
   "name": "python",
   "nbconvert_exporter": "python",
   "pygments_lexer": "ipython3",
   "version": "3.10.2"
  }
 },
 "nbformat": 4,
 "nbformat_minor": 2
}
